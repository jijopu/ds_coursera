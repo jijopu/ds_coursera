{
 "cells": [
  {
   "cell_type": "markdown",
   "id": "df202493-1a54-4e08-8524-3d74ffe60f02",
   "metadata": {},
   "source": [
    "# Data Science Tools and Ecosystem"
   ]
  },
  {
   "cell_type": "markdown",
   "id": "bb718ffd-a10c-484c-a028-5ea052f4afa2",
   "metadata": {},
   "source": [
    "## Author\n",
    "Jijo Pulickiyil Ulahannan"
   ]
  },
  {
   "cell_type": "markdown",
   "id": "0b2d2a7c-3264-4e29-bbf4-07af1c140c03",
   "metadata": {},
   "source": [
    "In this notebook, Data Science Tools and Ecosystem are summarized."
   ]
  },
  {
   "cell_type": "markdown",
   "id": "709c37c3-741d-4179-8927-5631a757aa91",
   "metadata": {
    "tags": []
   },
   "source": [
    "**Objectives:**"
   ]
  },
  {
   "cell_type": "markdown",
   "id": "0502dc18-c5cc-4462-9fa2-4efc55d1a033",
   "metadata": {},
   "source": [
    "* Create a Jupyter Notebook\n",
    "* Create markdown cell with title of the notebook\n",
    "* Create a markdown cell for an introduction\n",
    "* Create a markdown cell to list data science languages\n",
    "* Create a markdown cell to list data science libraries\n",
    "* Create a markdown cell with a table of Data Science tools\n",
    "* Create a markdown cell introducing arithmetic expression examples\n",
    "* Create a code cell to multiply and add numbers\n",
    "* Create a code cell to convert minutes to hours"
   ]
  },
  {
   "cell_type": "markdown",
   "id": "ec23014d-f4e7-4cec-bc02-2028506ced3e",
   "metadata": {},
   "source": [
    "## Some of the popular languages that Data Scientists use are:"
   ]
  },
  {
   "cell_type": "markdown",
   "id": "091da24a-ea6c-46b7-ba0f-20e0d2dc07b4",
   "metadata": {},
   "source": [
    "1. Python.\n",
    "2. SQL.\n",
    "3. R.\n",
    "4. VBA (Visual Basic for Applications)\n",
    "5. Julia.\n",
    "6. JavaScript.\n",
    "7. Java.\n",
    "8. Scala."
   ]
  },
  {
   "cell_type": "markdown",
   "id": "b468c87d-4ae6-47c4-b79d-e9f0c22ad1bb",
   "metadata": {
    "tags": []
   },
   "source": [
    "## Some of the commonly used libraries used by Data Scientists include:"
   ]
  },
  {
   "cell_type": "markdown",
   "id": "477383ef-5f12-419c-9043-774db0c253ec",
   "metadata": {},
   "source": [
    "1. Numpy\n",
    "2. Scipy\n",
    "3. Seaborn\n",
    "4. Scikit-learn\n",
    "5. TensorFlow\n",
    "6. Plotly\n",
    "7. PyTorch\n",
    "8. Keras\n",
    "9. BeautifulSoup"
   ]
  },
  {
   "cell_type": "markdown",
   "id": "e0867012-a594-4b47-b3e8-98fe8b6e43b5",
   "metadata": {},
   "source": [
    "## Data Science tools"
   ]
  },
  {
   "cell_type": "markdown",
   "id": "a92fb927-18cd-4cb7-ac25-fd28938cbf6b",
   "metadata": {},
   "source": [
    "|Data Science tools|\n",
    "|-----|\n",
    "|KNIME|\n",
    "|Apache Hadoop|\n",
    "|Apache Spark|"
   ]
  },
  {
   "cell_type": "markdown",
   "id": "386f51e1-58fb-47c9-9587-b9f96deeac7b",
   "metadata": {},
   "source": [
    "### Below are a few examples of evaluating arithmetic expressions in Python"
   ]
  },
  {
   "cell_type": "markdown",
   "id": "b469dbfe-a991-4825-9d5d-7a3926cf4b41",
   "metadata": {},
   "source": [
    "Addition\n",
    "\n",
    "print(2 + 3)\n",
    "\n",
    "Multiplication\n",
    "\n",
    "print(5 * 2)\n",
    "\n",
    "Division\n",
    " \n",
    "print(15 / 2)\n",
    "\n",
    "Subtraction\n",
    "\n",
    "print(10 - 7)\n",
    "\n",
    "Exponent\n",
    "\n",
    "print(5 ** 2)"
   ]
  },
  {
   "cell_type": "code",
   "execution_count": 2,
   "id": "284cb373-0cce-4911-885f-d28ecd64b316",
   "metadata": {
    "tags": []
   },
   "outputs": [
    {
     "data": {
      "text/plain": [
       "17"
      ]
     },
     "execution_count": 2,
     "metadata": {},
     "output_type": "execute_result"
    }
   ],
   "source": [
    "(3*4)+5"
   ]
  },
  {
   "cell_type": "code",
   "execution_count": 4,
   "id": "88830c35-4d5b-4179-bc43-3ec61854452b",
   "metadata": {
    "tags": []
   },
   "outputs": [
    {
     "name": "stdout",
     "output_type": "stream",
     "text": [
      "3.3333333333333335\n"
     ]
    }
   ],
   "source": [
    "#This will convert 200 minutes to hours by diving by 60\n",
    "minutes = 200\n",
    "hours = minutes / 60\n",
    "print(hours)"
   ]
  }
 ],
 "metadata": {
  "kernelspec": {
   "display_name": "Python",
   "language": "python",
   "name": "conda-env-python-py"
  },
  "language_info": {
   "codemirror_mode": {
    "name": "ipython",
    "version": 3
   },
   "file_extension": ".py",
   "mimetype": "text/x-python",
   "name": "python",
   "nbconvert_exporter": "python",
   "pygments_lexer": "ipython3",
   "version": "3.7.12"
  }
 },
 "nbformat": 4,
 "nbformat_minor": 5
}
